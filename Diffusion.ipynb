{
 "metadata": {
  "language": "Julia",
  "name": ""
 },
 "nbformat": 3,
 "nbformat_minor": 0,
 "worksheets": [
  {
   "cells": [
    {
     "cell_type": "code",
     "collapsed": false,
     "input": [
      "using PyPlot"
     ],
     "language": "python",
     "metadata": {},
     "outputs": [
      {
       "output_type": "stream",
       "stream": "stdout",
       "text": [
        "Loading help data...\n"
       ]
      },
      {
       "output_type": "stream",
       "stream": "stderr",
       "text": [
        "Warning: Possible conflict in library symbol dtrtri_\n",
        "Warning: Possible conflict in library symbol dgetri_\n",
        "Warning: Possible conflict in library symbol dgetrf_\n"
       ]
      }
     ],
     "prompt_number": 5
    },
    {
     "cell_type": "code",
     "collapsed": false,
     "input": [
      "function ui(x::Float64)\n",
      "    return sin(2pi*x)\n",
      "end\n",
      "\n",
      "\n",
      "function exact_solution(x::Float64,t::Float64)\n",
      "    return exp(-4*pi^2*t)*sin(2*pi*x);\n",
      "end"
     ],
     "language": "python",
     "metadata": {},
     "outputs": [
      {
       "metadata": {},
       "output_type": "pyout",
       "prompt_number": 73,
       "text": [
        "exact_solution (generic function with 1 method)"
       ]
      }
     ],
     "prompt_number": 73
    },
    {
     "cell_type": "code",
     "collapsed": false,
     "input": [
      "function explicit_solver(g,xi::Float64,xf::Float64,tf::Float64,D::Float64,N::Int = 50) \n",
      "    dx = (xf-xi)/(N+1); \n",
      "    M = 2*N; \n",
      "    dt = tf/M; \n",
      "    lambda = dt*D/dx/dx; \n",
      "    while lambda > 0.5\n",
      "        M = M + min(M,200); \n",
      "        dt = tf/M; \n",
      "        lambda = dt*D/dx/dx; \n",
      "    end\n",
      "    println(\"lambda for the explicit solver was deterined to be: \",lambda); \n",
      "    \n",
      "    A = zeros(Float64,N,N); \n",
      "    for i in 1:N \n",
      "        A[i,i] = 1.0-2.0*lambda;\n",
      "        if i > 1\n",
      "            A[i,i-1] = lambda;\n",
      "        end\n",
      "        if i < N\n",
      "            A[i,i+1] = lambda; \n",
      "        end\n",
      "    end\n",
      "    \n",
      "    newu = Array(Float64,N); \n",
      "    oldu = Array(Float64,N); \n",
      "    \n",
      "    x = linspace(xi+dx,xf-dx,N); \n",
      "    \n",
      "    oldu = map(g,x); \n",
      "    \n",
      "    for j in 1:M-1\n",
      "        newu = A*oldu; \n",
      "        oldu = newu;\n",
      "    end    \n",
      "    \n",
      "    #add boundary conditions \n",
      "    append!(oldu,[0]); \n",
      "    prepend!(oldu,[0]);\n",
      "    \n",
      "    return oldu; \n",
      "         \n",
      "end"
     ],
     "language": "python",
     "metadata": {},
     "outputs": [
      {
       "metadata": {},
       "output_type": "pyout",
       "prompt_number": 81,
       "text": [
        "explicit_solver (generic function with 2 methods)"
       ]
      }
     ],
     "prompt_number": 81
    },
    {
     "cell_type": "code",
     "collapsed": false,
     "input": [
      "function implicit_solver(g,xi::Float64,xf::Float64,tf::Float64,D::Float64,N::Int = 50,M::Int = 50)\n",
      "    dx = (xf-xi)/(N+1); \n",
      "    dt = tf/M; \n",
      "    \n",
      "    lambda = dt*D/dx/dx; \n",
      "    println(\"lambda for the implicit solver was determined to be: \",lambda); \n",
      "    \n",
      "    B = zeros(Float64,N,N); \n",
      "    for i in 1:N \n",
      "        B[i,i] = 1.0+2.0*lambda;\n",
      "        if i > 1\n",
      "            B[i,i-1] = -lambda;\n",
      "        end\n",
      "        if i < N\n",
      "            B[i,i+1] = -lambda; \n",
      "        end\n",
      "    end\n",
      "    \n",
      "    invtB = inv(B);\n",
      "    \n",
      "    newu = Array(Float64,N); \n",
      "    oldu = Array(Float64,N); \n",
      "    \n",
      "    x = linspace(xi+dx,xf-dx,N); \n",
      "    \n",
      "    oldu = map(g,x); \n",
      "    \n",
      "    for j in 1:M-1\n",
      "        newu = invtB*oldu; \n",
      "        oldu = newu;\n",
      "    end    \n",
      "    \n",
      "    #add boundary conditions \n",
      "    append!(oldu,[0]); \n",
      "    prepend!(oldu,[0]);\n",
      "    \n",
      "    return oldu; \n",
      "end"
     ],
     "language": "python",
     "metadata": {},
     "outputs": [
      {
       "metadata": {},
       "output_type": "pyout",
       "prompt_number": 99,
       "text": [
        "implicit_solver (generic function with 3 methods)"
       ]
      }
     ],
     "prompt_number": 99
    },
    {
     "cell_type": "code",
     "collapsed": false,
     "input": [
      "x1 = 0.0; \n",
      "x2 = 1.0; \n",
      "N = 25; \n",
      "t = 0.1; \n",
      "\n",
      "x = linspace(x1,x2,N+2);\n",
      "\n",
      "u_explicit = explicit_solver(ui,x1,x2,t,1.0,N); \n",
      "u_impilcit = implicit_solver(ui,x1,x2,t,1.0,N,10000); \n",
      "u_exact = map(a->exact_solution(a,t),x); \n",
      "\n",
      "length(u_impilcit)"
     ],
     "language": "python",
     "metadata": {},
     "outputs": [
      {
       "output_type": "stream",
       "stream": "stdout",
       "text": [
        "lambda for the explicit solver was deterined to be: 0."
       ]
      },
      {
       "output_type": "stream",
       "stream": "stdout",
       "text": [
        "33799999999999997\n",
        "lambda for the implicit solver was determined to be: 0.00676\n"
       ]
      },
      {
       "metadata": {},
       "output_type": "pyout",
       "prompt_number": 104,
       "text": [
        "27"
       ]
      }
     ],
     "prompt_number": 104
    },
    {
     "cell_type": "code",
     "collapsed": false,
     "input": [
      "plot(x,u_exact,\"-o\");\n",
      "plot(x,u_explicit,\"-^\")\n",
      "plot(x,u_impilcit,\"-s\")"
     ],
     "language": "python",
     "metadata": {},
     "outputs": [
      {
       "metadata": {},
       "output_type": "display_data",
       "png": "[encoded data removed]",
       "text": [
        "Figure(PyObject <matplotlib.figure.Figure object at 0x11538e990>)"
       ]
      },
      {
       "metadata": {},
       "output_type": "pyout",
       "prompt_number": 105,
       "text": [
        "1-element Array{Any,1}:\n",
        " PyObject <matplotlib.lines.Line2D object at 0x114fb7110>"
       ]
      }
     ],
     "prompt_number": 105
    },
    {
     "cell_type": "code",
     "collapsed": false,
     "input": [
      "u_explicit"
     ],
     "language": "python",
     "metadata": {},
     "outputs": [
      {
       "metadata": {},
       "output_type": "pyout",
       "prompt_number": 93,
       "text": [
        "27-element Array{Float64,1}:\n",
        " 0.0      \n",
        " 0.0503597\n",
        " 0.0999563\n",
        " 0.14804  \n",
        " 0.193885 \n",
        " 0.236806 \n",
        " 0.276164 \n",
        " 0.311379 \n",
        " 0.341938 \n",
        " 0.367406 \n",
        " 0.387424 \n",
        " 0.40172  \n",
        " 0.41011  \n",
        " \u22ee        \n",
        " 0.399322 \n",
        " 0.384002 \n",
        " 0.363159 \n",
        " 0.337114 \n",
        " 0.306256 \n",
        " 0.271041 \n",
        " 0.231981 \n",
        " 0.189639 \n",
        " 0.144618 \n",
        " 0.0975583\n",
        " 0.0491248\n",
        " 0.0      "
       ]
      }
     ],
     "prompt_number": 93
    },
    {
     "cell_type": "code",
     "collapsed": false,
     "input": [
      "minimum(1,5)"
     ],
     "language": "python",
     "metadata": {},
     "outputs": [
      {
       "ename": "LoadError",
       "evalue": "no method minimum(Int64,Int64)\nat In[62]:1",
       "output_type": "pyerr",
       "traceback": [
        "no method minimum(Int64,Int64)\nat In[62]:1"
       ]
      }
     ],
     "prompt_number": 62
    },
    {
     "cell_type": "code",
     "collapsed": false,
     "input": [
      "min(1,5)"
     ],
     "language": "python",
     "metadata": {},
     "outputs": [
      {
       "metadata": {},
       "output_type": "pyout",
       "prompt_number": 63,
       "text": [
        "1"
       ]
      }
     ],
     "prompt_number": 63
    },
    {
     "cell_type": "code",
     "collapsed": false,
     "input": [
      "b"
     ],
     "language": "python",
     "metadata": {},
     "outputs": [
      {
       "metadata": {},
       "output_type": "pyout",
       "prompt_number": 89,
       "text": [
        "25x25 Array{Float64,2}:\n",
        " 0.926272     0.0347997    0.00130741   \u2026  1.54163e-33  5.78367e-35\n",
        " 0.0347997    0.92758      0.0348488       4.10919e-32  1.54163e-33\n",
        " 0.00130741   0.0348488    0.927582        1.09375e-30  4.1034e-32 \n",
        " 4.91189e-5   0.00130926   0.0348489       2.91128e-29  1.09221e-30\n",
        " 1.84538e-6   4.91882e-5   0.00130926      7.74902e-28  2.90717e-29\n",
        " 6.93301e-8   1.84798e-6   4.91883e-5   \u2026  2.06258e-26  7.7381e-28 \n",
        " 2.6047e-9    6.94279e-8   1.84799e-6      5.49002e-25  2.05967e-26\n",
        " 9.78577e-11  2.60838e-9   6.94281e-8      1.46129e-23  5.48228e-25\n",
        " 3.67647e-12  9.79958e-11  2.60839e-9      3.88956e-22  1.45923e-23\n",
        " 1.38124e-13  3.68166e-12  9.7996e-11      1.03529e-20  3.88408e-22\n",
        " 5.18925e-15  1.38319e-13  3.68167e-12  \u2026  2.75567e-19  1.03383e-20\n",
        " 1.94958e-16  5.19658e-15  1.38319e-13     7.33484e-18  2.75179e-19\n",
        " 7.3245e-18   1.95233e-16  5.19659e-15     1.95233e-16  7.3245e-18 \n",
        " 2.75179e-19  7.33484e-18  1.95234e-16     5.19658e-15  1.94958e-16\n",
        " 1.03383e-20  2.75567e-19  7.33485e-18     1.38319e-13  5.18925e-15\n",
        " 3.88408e-22  1.03529e-20  2.75568e-19  \u2026  3.68166e-12  1.38124e-13\n",
        " 1.45923e-23  3.88956e-22  1.0353e-20      9.79958e-11  3.67647e-12\n",
        " 5.48228e-25  1.46129e-23  3.88957e-22     2.60838e-9   9.78577e-11\n",
        " 2.05967e-26  5.49002e-25  1.46129e-23     6.94279e-8   2.6047e-9  \n",
        " 7.7381e-28   2.06258e-26  5.49003e-25     1.84798e-6   6.93301e-8 \n",
        " 2.90717e-29  7.74902e-28  2.06258e-26  \u2026  4.91882e-5   1.84538e-6 \n",
        " 1.09221e-30  2.91128e-29  7.74904e-28     0.00130926   4.91189e-5 \n",
        " 4.1034e-32   1.09375e-30  2.91128e-29     0.0348488    0.00130741 \n",
        " 1.54163e-33  4.10919e-32  1.09375e-30     0.92758      0.0347997  \n",
        " 5.78367e-35  1.54163e-33  4.1034e-32      0.0347997    0.926272   "
       ]
      }
     ],
     "prompt_number": 89
    },
    {
     "cell_type": "code",
     "collapsed": false,
     "input": [
      "B"
     ],
     "language": "python",
     "metadata": {},
     "outputs": [
      {
       "ename": "LoadError",
       "evalue": "B not defined\nat In[85]:1",
       "output_type": "pyerr",
       "traceback": [
        "B not defined\nat In[85]:1"
       ]
      }
     ],
     "prompt_number": 85
    },
    {
     "cell_type": "code",
     "collapsed": false,
     "input": [],
     "language": "python",
     "metadata": {},
     "outputs": []
    }
   ],
   "metadata": {}
  }
 ]
}