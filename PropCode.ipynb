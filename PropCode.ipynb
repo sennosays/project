{
 "metadata": {
  "language": "Julia",
  "name": ""
 },
 "nbformat": 3,
 "nbformat_minor": 0,
 "worksheets": [
  {
   "cells": [
    {
     "cell_type": "code",
     "collapsed": false,
     "input": [
      "using PyPlot"
     ],
     "language": "python",
     "metadata": {},
     "outputs": [
      {
       "output_type": "stream",
       "stream": "stdout",
       "text": [
        "Loading help data...\n"
       ]
      }
     ],
     "prompt_number": 1
    },
    {
     "cell_type": "code",
     "collapsed": false,
     "input": [
      "include(\"PropCode_funcs.jl\")"
     ],
     "language": "python",
     "metadata": {},
     "outputs": [
      {
       "metadata": {},
       "output_type": "pyout",
       "prompt_number": 94,
       "text": [
        "prop_step (generic function with 2 methods)"
       ]
      }
     ],
     "prompt_number": 94
    },
    {
     "cell_type": "code",
     "collapsed": false,
     "input": [
      "#set up the computational domain: Space, time, Hubble constant, etc. \n",
      "\n",
      "z_g = 3.0;      #location of the source \n",
      "z_edge = 6.0;   #edge of spatial domain \n",
      "\n",
      "Q0 = 100.0        #strength of source. Here we consider a single source [Gyr^-1 Mpc^-3] \n",
      "\n",
      "r_max = quadgk(drdz,0.0,z_edge)[1]   #get the max proper distance [Mpc]\n",
      "t_min = age+quadgk(dtdz,0.0,z_g)[1]   #time that source starts to produce particles that are observable at z = 0 [Gyr]\n",
      "\n",
      "dr = 50.0;    #set the spatial step size [Mpc] \n",
      "H_max = sqrt(Omegam*(1.0+z_g)^3+Omegavac);   #maximum unnormalized Hubble constant we will encounter [1] \n",
      "dt = calc_dt(H_max,r_max,dr);   #set the temporal step size [Gyr] \n",
      "\n",
      "\n",
      "nt = ifloor((age-t_min)/dt)  #calculate the number of temporal points\n",
      "dt = (age-t_min)/nt         #reset the spacing such that we exactally reach t1 and t2 [Gyr] \n",
      "\n",
      "nr = iceil(r_max/dr)\n",
      "dr = r_max/nr              #do the same as above with the spatial time step [Mpc] \n",
      "\n",
      "#max sure the discretization is stable\n",
      "@assert(calc_w(H_max,r_max,dt,dr)< 1.0);\n",
      "\n",
      "\n",
      "r = linspace(0.0,r_max,nr);   #proper distance [Mpc]\n",
      "t = linspace(t_min,age,nt);            #cosmological time [Gyr]\n",
      "H = Array(Float64,nt);                 #unnormalized Hubble constant as function of cosmological time [1]\n",
      "n = zeros(Float64,nr);                 #number density of particles [Mpc^-3] TODO maybe change these units?\n",
      "Q = zeros(Float64,nr);                 #array that contains the source information as a function of position[Gyr^-1 Mpc^-3]\n",
      "z_old = 0.0; \n",
      "H[end] = 1.0; \n",
      "\n",
      "#use the redshift calculation to calculate the unnormalized Hubble \n",
      "#constant for a given cosmological time \n",
      "for i in 1:nt-1\n",
      "    z_new = z_old - dzdt(z_old)*dt;\n",
      "    H[end-i] = sqrt(Omegam*(1.0+z_new).^3+Omegavac); \n",
      "    z_old = z_new; \n",
      "end\n",
      "\n",
      "@assert(abs(H[1] - H_max) < 1e-2)"
     ],
     "language": "python",
     "metadata": {},
     "outputs": [],
     "prompt_number": 95
    },
    {
     "cell_type": "code",
     "collapsed": false,
     "input": [
      "#set up the numerical solver and solve the problem \n",
      "\n",
      "A = Array(Float64,nr,nr); \n",
      "new_n = Array(Float64,nr); \n",
      "Q[iceil(end/2)] = Q0/dr;\n",
      "n = zeros(Float64,nr);\n",
      "\n",
      "sp = r[iceil(end/2)];   #position of the source [Mpc]\n",
      "\n",
      "for j in 1:200\n",
      "    make_A!(A,H[j],r,dt,dr,sp); \n",
      "    new_n = A*n+dt.*Q; \n",
      "    n = copy(new_n); \n",
      "    n[end] = 0.0;\n",
      "end"
     ],
     "language": "python",
     "metadata": {},
     "outputs": [],
     "prompt_number": 97
    },
    {
     "cell_type": "code",
     "collapsed": false,
     "input": [
      "plot(r,n);"
     ],
     "language": "python",
     "metadata": {},
     "outputs": [
      {
       "metadata": {},
       "output_type": "display_data",
       "png": "[encoded data removed]",
       "text": [
        "Figure(PyObject <matplotlib.figure.Figure object at 0x11a5f2710>)"
       ]
      }
     ],
     "prompt_number": 97
    },
    {
     "cell_type": "code",
     "collapsed": false,
     "input": [
      "n[5]"
     ],
     "language": "python",
     "metadata": {},
     "outputs": [
      {
       "metadata": {},
       "output_type": "pyout",
       "prompt_number": 90,
       "text": [
        "NaN"
       ]
      }
     ],
     "prompt_number": 90
    },
    {
     "cell_type": "code",
     "collapsed": false,
     "input": [
      "inverse_alpha*Q0/(4pi*c*r[iceil(end/2)]^2*(1+z_g))"
     ],
     "language": "python",
     "metadata": {},
     "outputs": [
      {
       "metadata": {},
       "output_type": "pyout",
       "prompt_number": 74,
       "text": [
        "3.834643186979103e-10"
       ]
      }
     ],
     "prompt_number": 74
    },
    {
     "cell_type": "code",
     "collapsed": false,
     "input": [
      "inverse_alpha"
     ],
     "language": "python",
     "metadata": {},
     "outputs": [
      {
       "metadata": {},
       "output_type": "pyout",
       "prompt_number": 71,
       "text": [
        "1028.5737795972104"
       ]
      }
     ],
     "prompt_number": 71
    },
    {
     "cell_type": "code",
     "collapsed": false,
     "input": [
      "t[1]"
     ],
     "language": "python",
     "metadata": {},
     "outputs": [
      {
       "metadata": {},
       "output_type": "pyout",
       "prompt_number": 76,
       "text": [
        "2.137644142628915"
       ]
      }
     ],
     "prompt_number": 76
    },
    {
     "cell_type": "code",
     "collapsed": false,
     "input": [
      "r[1]"
     ],
     "language": "python",
     "metadata": {},
     "outputs": [
      {
       "metadata": {},
       "output_type": "pyout",
       "prompt_number": 77,
       "text": [
        "8437.902420663706"
       ]
      }
     ],
     "prompt_number": 77
    },
    {
     "cell_type": "code",
     "collapsed": false,
     "input": [],
     "language": "python",
     "metadata": {},
     "outputs": []
    }
   ],
   "metadata": {}
  }
 ]
}