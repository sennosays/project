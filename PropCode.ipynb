{
 "metadata": {
  "language": "Julia",
  "name": ""
 },
 "nbformat": 3,
 "nbformat_minor": 0,
 "worksheets": [
  {
   "cells": [
    {
     "cell_type": "code",
     "collapsed": false,
     "input": [
      "const age = 13.82     #current age of the universe in Gyr \n",
      "const H0 = 67.11      #Hubble constant at the present time [km/s/Mpc]\n",
      "const Omegam = 0.3175 #fraction of matter in the unverise taken from Planck \n",
      "const Omegavac = 1.0 - Omegam; \n",
      "const inverse_H0 = 977.8/H0; #1/H0 [Gyr];\n",
      "const c = 299800;  #speed of light [km/s]  \n",
      "const coverH0 = c/67.11;  #[Mpc]"
     ],
     "language": "python",
     "metadata": {},
     "outputs": [
      {
       "metadata": {},
       "output_type": "pyout",
       "prompt_number": 4,
       "text": [
        "4467.292504842795"
       ]
      }
     ],
     "prompt_number": 4
    },
    {
     "cell_type": "code",
     "collapsed": false,
     "input": [
      "#calculates and returns the derivative of time wrt redshift \n",
      "#takes a redshift as input \n",
      "function dtdz (this_z::Float64)\n",
      "    @assert(this_z >= 0.0)\n",
      "    this_opz = 1+this_z; \n",
      "    temp_result = this_opz*sqrt(Omegam*this_opz*this_opz*this_opz + Omegavac); \n",
      "    return inverse_H0/temp_result; \n",
      "end\n",
      "\n",
      "function drdz (this_z::Float64)\n",
      "    @assert(this_z >= 0.0)\n",
      "    this_opz = 1.0+this_z; \n",
      "    return coverH0/sqrt(Omegam*this_opz*this_opz*this_opz + Omegavac);\n",
      "end\n",
      "    "
     ],
     "language": "python",
     "metadata": {},
     "outputs": [
      {
       "metadata": {},
       "output_type": "pyout",
       "prompt_number": 5,
       "text": [
        "drdz (generic function with 1 method)"
       ]
      }
     ],
     "prompt_number": 5
    },
    {
     "cell_type": "code",
     "collapsed": false,
     "input": [
      "z0 = 0.0; \n",
      "zf = 6.0; \n",
      "numzs = 100000; \n",
      "zs = linspace(z0,zf,numzs);\n",
      "deltaz = zs[2]-zs[1]; \n",
      "times = zeros(Float64,numzs); \n",
      "dist = zeros(Float64,numzs); \n",
      "Hubble = ones(Float64,numzs); \n",
      "\n",
      "dt = zeros(Float64,numzs); \n",
      "\n",
      "#calculate the comsmological time \n",
      "#and proper distance using UNIFORM REDSHIFT SPACING\n",
      "#this means that the spacing for time and space \n",
      "#are NOT uniform \n",
      "for i in 1:numzs-1 \n",
      "    opz = (1.0+zs[i]); \n",
      "    times[i+1] = times[i] + dtdz(zs[i])*deltaz; \n",
      "    dist[i+1] = dist[i] + drdz(zs[i])*deltaz; \n",
      "    Hubble[i] = sqrt(Omegam*opz*opz*opz + Omegavac); \n",
      "    \n",
      "    #calculate the differece in time between two temporal points\n",
      "    #TODO maybe chance to centered time steps \n",
      "    dt[i+1] = times[i+1]-times[i];\n",
      "end\n",
      "opz = 1.0+zf;\n",
      "Hubble[numzs] = sqrt(Omegam*opz*opz*opz + Omegavac); \n",
      "Hubble = H0.*Hubble; "
     ],
     "language": "python",
     "metadata": {},
     "outputs": [],
     "prompt_number": 23
    },
    {
     "cell_type": "code",
     "collapsed": false,
     "input": [
      "using PyPlot"
     ],
     "language": "python",
     "metadata": {},
     "outputs": [
      {
       "output_type": "stream",
       "stream": "stdout",
       "text": [
        "Loading help data...\n"
       ]
      }
     ],
     "prompt_number": 2
    },
    {
     "cell_type": "code",
     "collapsed": false,
     "input": [
      "times = age .- times; "
     ],
     "language": "python",
     "metadata": {},
     "outputs": [],
     "prompt_number": 5
    },
    {
     "cell_type": "code",
     "collapsed": false,
     "input": [
      "derivs = map(dtdz,zs); \n",
      "plot(zs,derivs)"
     ],
     "language": "python",
     "metadata": {},
     "outputs": [
      {
       "metadata": {},
       "output_type": "display_data",
       "png": "[encoded data removed]",
       "text": [
        "Figure(PyObject <matplotlib.figure.Figure object at 0xac41dd0>)"
       ]
      },
      {
       "metadata": {},
       "output_type": "pyout",
       "prompt_number": 28,
       "text": [
        "1-element Array{Any,1}:\n",
        " PyObject <matplotlib.lines.Line2D object at 0xc592b50>"
       ]
      }
     ],
     "prompt_number": 28
    },
    {
     "cell_type": "code",
     "collapsed": false,
     "input": [
      "function test_fn(a,b)\n",
      "    return b,a\n",
      "end"
     ],
     "language": "python",
     "metadata": {},
     "outputs": [
      {
       "metadata": {},
       "output_type": "pyout",
       "prompt_number": 9,
       "text": [
        "test_fn (generic function with 1 method)"
       ]
      }
     ],
     "prompt_number": 9
    },
    {
     "cell_type": "code",
     "collapsed": false,
     "input": [
      "test_fn(1,2)"
     ],
     "language": "python",
     "metadata": {},
     "outputs": [
      {
       "metadata": {},
       "output_type": "pyout",
       "prompt_number": 10,
       "text": [
        "(2,1)"
       ]
      }
     ],
     "prompt_number": 10
    },
    {
     "cell_type": "code",
     "collapsed": false,
     "input": [
      "f,d = test_fn(2,1)"
     ],
     "language": "python",
     "metadata": {},
     "outputs": [
      {
       "metadata": {},
       "output_type": "pyout",
       "prompt_number": 16,
       "text": [
        "(1,2)"
       ]
      }
     ],
     "prompt_number": 16
    },
    {
     "cell_type": "code",
     "collapsed": false,
     "input": [
      "f"
     ],
     "language": "python",
     "metadata": {},
     "outputs": [
      {
       "metadata": {},
       "output_type": "pyout",
       "prompt_number": 17,
       "text": [
        "1"
       ]
      }
     ],
     "prompt_number": 17
    },
    {
     "cell_type": "code",
     "collapsed": false,
     "input": [
      "d"
     ],
     "language": "python",
     "metadata": {},
     "outputs": [
      {
       "metadata": {},
       "output_type": "pyout",
       "prompt_number": 18,
       "text": [
        "2"
       ]
      }
     ],
     "prompt_number": 18
    },
    {
     "cell_type": "code",
     "collapsed": false,
     "input": [
      "maximum(dt)/minimum(dt[2:end])"
     ],
     "language": "python",
     "metadata": {},
     "outputs": [
      {
       "metadata": {},
       "output_type": "pyout",
       "prompt_number": 24,
       "text": [
        "73.27643368066583"
       ]
      }
     ],
     "prompt_number": 24
    },
    {
     "cell_type": "code",
     "collapsed": false,
     "input": [
      "minimum(dt)"
     ],
     "language": "python",
     "metadata": {},
     "outputs": [
      {
       "metadata": {},
       "output_type": "pyout",
       "prompt_number": 21,
       "text": [
        "0.0"
       ]
      }
     ],
     "prompt_number": 21
    },
    {
     "cell_type": "code",
     "collapsed": false,
     "input": [],
     "language": "python",
     "metadata": {},
     "outputs": []
    }
   ],
   "metadata": {}
  }
 ]
}