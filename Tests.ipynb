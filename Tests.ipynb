{
 "metadata": {
  "language": "Julia",
  "name": ""
 },
 "nbformat": 3,
 "nbformat_minor": 0,
 "worksheets": [
  {
   "cells": [
    {
     "cell_type": "code",
     "collapsed": false,
     "input": [
      "function test_real(this_sol::Array,positive = false)\n",
      "    len = length(this_sol)\n",
      "    index = 1; \n",
      "    sol_nan = false; \n",
      "    sol_inf = false; \n",
      "    sol_neg = !positive;\n",
      "    is_number = 3; \n",
      "    while is_number == 3 && index <= len\n",
      "        sol_nan = !isnan(this_sol[index]); \n",
      "        sol_inf = !isinf(this_sol[index]); \n",
      "        \n",
      "        if positive \n",
      "            sol_neg = (this_sol[index] >= 0.0);\n",
      "            println(this_sol[index],' ',sol_neg);\n",
      "        end\n",
      "        \n",
      "        index += 1; \n",
      "        \n",
      "        is_number = sol_nan + sol_inf + sol_neg; \n",
      "    end\n",
      "    \n",
      "    if index <= len \n",
      "        index -= 1; \n",
      "        \n",
      "        if !sol_nan\n",
      "            println(\"Solution at index \",index, \" is NaN\"); \n",
      "        elseif !sol_inf\n",
      "            println(\"Solution at index \",index, \" is inf\"); \n",
      "        elseif !sol_neg\n",
      "            println(\"Solution at index \",index, \" is negative\"); \n",
      "        else\n",
      "            println(\"Unknown error at index \", index); \n",
      "        end\n",
      "    elseif !positive \n",
      "        println(\"Solution is comprised of real numbers\"); \n",
      "    else\n",
      "        println(\"Solution is comprised of real positive numbers\"); \n",
      "    end\n",
      "end\n",
      "            \n",
      "            \n",
      "        \n",
      "        "
     ],
     "language": "python",
     "metadata": {},
     "outputs": [
      {
       "metadata": {},
       "output_type": "pyout",
       "prompt_number": 3,
       "text": [
        "test_real (generic function with 2 methods)"
       ]
      }
     ],
     "prompt_number": 3
    },
    {
     "cell_type": "code",
     "collapsed": false,
     "input": [
      "function compare_solutions(sol_1::Array,sol_2::Array,ab_tol = 1e-5); \n",
      "    if size(sol_1) != size(sol_2)\n",
      "        println(\"Solutions are not of the same size\"); \n",
      "    end\n",
      "    \n",
      "    ab_errors = abs(sol_1 .- sol_2); \n",
      "\n",
      "    max_error, max_error_loc = findmax(ab_errors); \n",
      "    \n",
      "    if(max_error > ab_tol)\n",
      "        println(\"Solutions do not match to an absolute tolerance of \",ab_tol);\n",
      "        println(\"at the solution location \",max_error_loc); \n",
      "    else\n",
      "        println(\"Solutions agree to an absolute tolerance of \",ab_tol); \n",
      "    end\n",
      "end\n",
      "        "
     ],
     "language": "python",
     "metadata": {},
     "outputs": [
      {
       "metadata": {},
       "output_type": "pyout",
       "prompt_number": 1,
       "text": [
        "compare_solutions (generic function with 2 methods)"
       ]
      }
     ],
     "prompt_number": 1
    },
    {
     "cell_type": "code",
     "collapsed": false,
     "input": [
      "x1 = [1.0 ,1.0, 1.0 ,1.0]; \n",
      "x2 = copy(x1); "
     ],
     "language": "python",
     "metadata": {},
     "outputs": [],
     "prompt_number": 63
    },
    {
     "cell_type": "code",
     "collapsed": false,
     "input": [
      "x2[end] = 0.99; "
     ],
     "language": "python",
     "metadata": {},
     "outputs": [],
     "prompt_number": 63
    },
    {
     "cell_type": "code",
     "collapsed": false,
     "input": [
      "compare_solutions(x1,x2)"
     ],
     "language": "python",
     "metadata": {},
     "outputs": [
      {
       "output_type": "stream",
       "stream": "stdout",
       "text": [
        "Solutions agree to an absolute tolerance of 1"
       ]
      },
      {
       "output_type": "stream",
       "stream": "stdout",
       "text": [
        ".0e-5\n"
       ]
      }
     ],
     "prompt_number": 64
    },
    {
     "cell_type": "code",
     "collapsed": false,
     "input": [
      "function compare_solvers(tf::Float64,npoints = 50,walkers = 1000,tol::Float64 = 1e-5)\n",
      "    @assert(tf > 0.0); \n",
      "    println(\"The number of workers to be used is \",nworkers()); \n",
      "    D = 1.0; \n",
      "    xi = 0.0; \n",
      "    xf = 1.0;\n",
      "    \n",
      "    e_sol, e_x = explicit_solver(u0_test,xi,xf,tf,D,npoints);\n",
      "    i_sol, i_x = implicit_solver(u0_test,xi,xf,tf,D,npoints,200); \n",
      "    c_sol, c_x = crank_solver(u0_test,xi,xf,tf,D,npoints,200);\n",
      "    m_mc_sol, m_mc_x = map_MC_crank_solver(u0_test,xi,xf,tf,D,npoints,walkers);\n",
      "    p_mc_sol, p_mc_x = pmap_MC_crank_solver(u0_test,xi,xf,tf,D,npoints,walkers);\n",
      "    \n",
      "    exact_sol = map(a->exact_solution_test(a,tf),e_x); \n",
      "    \n",
      "    println(\"Comparing exact solution with explicit solver\"); \n",
      "    compare_solutions(exact_sol,e_sol,tol);\n",
      "    \n",
      "    println(\"Comparing exact solution with implicit solver\"); \n",
      "    compare_solutions(exact_sol,i_sol,tol); \n",
      "    \n",
      "    println(\"Comparing exact solution with Crank-Nicolson solver\"); \n",
      "    compare_solutions(exact_sol,c_sol,tol);\n",
      "    \n",
      "    println(\"Comparing exact solution with serial Monte Carlo solver\"); \n",
      "    compare_solutions(exact_sol,m_mc_sol,tol); \n",
      "    \n",
      "    println(\"Comparing exact solution with parallel Monte Carlo solver\"); \n",
      "    compare_solutions(exact_sol,p_mc_sol,tol);\n",
      "    \n",
      "end\n",
      "    "
     ],
     "language": "python",
     "metadata": {},
     "outputs": [
      {
       "metadata": {},
       "output_type": "pyout",
       "prompt_number": 10,
       "text": [
        "compare_solvers (generic function with 4 methods)"
       ]
      }
     ],
     "prompt_number": 10
    },
    {
     "cell_type": "code",
     "collapsed": false,
     "input": [
      " "
     ],
     "language": "python",
     "metadata": {},
     "outputs": [],
     "prompt_number": 4
    },
    {
     "cell_type": "code",
     "collapsed": false,
     "input": [
      "addprocs(3); "
     ],
     "language": "python",
     "metadata": {},
     "outputs": [],
     "prompt_number": 6
    },
    {
     "cell_type": "code",
     "collapsed": false,
     "input": [
      "@everywhere include(\"parallel_diffusion_solvers.jl\");\n",
      "@everywhere include(\"diffusion_solvers.jl\");"
     ],
     "language": "python",
     "metadata": {},
     "outputs": [],
     "prompt_number": 6
    },
    {
     "cell_type": "code",
     "collapsed": false,
     "input": [
      "compare_solvers(0.1,500,10000,1e-3); "
     ],
     "language": "python",
     "metadata": {},
     "outputs": [
      {
       "ename": "LoadError",
       "evalue": "interrupt\nwhile loading In[7], in expression starting on line 1",
       "output_type": "pyerr",
       "traceback": [
        "interrupt\nwhile loading In[7], in expression starting on line 1",
        " in random_walker at /home/nick/Documents/hpc/project/diffusion_solvers.jl:212",
        " in anonymous at /home/nick/Documents/hpc/project/diffusion_solvers.jl:190",
        " in map_range_to! at range.jl:470",
        " in map at range.jl:481",
        " in map_MC_crank_solver at /home/nick/Documents/hpc/project/diffusion_solvers.jl:190",
        " in compare_solvers at In[7]:11"
       ]
      }
     ],
     "prompt_number": 7
    },
    {
     "cell_type": "code",
     "collapsed": false,
     "input": [
      "function npoints_dependence(nsamples = 5,walkers = 1000) \n",
      "    println(\"The number of workers to be used is \",nworkers()); \n",
      "    D = 1.0; \n",
      "    xi = 0.0; \n",
      "    xf = 1.0; \n",
      "    \n",
      "    tf = 0.1; \n",
      "    \n",
      "    npoints = 100; \n",
      "    times = Array(Float64,4,nsamples); \n",
      "    errors = Array(Float64,4,nsamples); \n",
      "    \n",
      "    for n in 1:nsamples \n",
      "        println(\"Starting with size of \",npoints); \n",
      "        times[1,n] = @elapsed ((e_sol, e_x) = explicit_solver(u0_test,xi,xf,tf,D,npoints));\n",
      "        times[2,n] = @elapsed (c_sol = crank_solver(u0_test,xi,xf,tf,D,npoints,200)[1]);\n",
      "        times[3,n] = @elapsed (m_mc_sol = map_MC_crank_solver(u0_test,xi,xf,tf,D,npoints,walkers)[1]);\n",
      "        times[4,n] = @elapsed (p_mc_sol = pmap_MC_crank_solver(u0_test,xi,xf,tf,D,npoints,walkers)[1]);\n",
      "        \n",
      "        exact_sol = map(a->exact_solution_test(a,tf),e_x); \n",
      "        \n",
      "        errors[1,n] = maximum(abs(exact_sol .- e_sol)); \n",
      "        errors[2,n] = maximum(abs(exact_sol .- c_sol)); \n",
      "        errors[3,n] = maximum(abs(exact_sol .- m_mc_sol)); \n",
      "        errors[4,n] = maximum(abs(exact_sol .- p_mc_sol)); \n",
      "        \n",
      "        println(\"times: \\n\",times[1:4,n]'); \n",
      "        println(\"errors: \\n \",errors[1:4,n]'); \n",
      "        \n",
      "        npoints *= 2; \n",
      "    end\n",
      "end"
     ],
     "language": "python",
     "metadata": {},
     "outputs": [],
     "prompt_number": 31
    },
    {
     "cell_type": "code",
     "collapsed": false,
     "input": [
      "npoints_dependence(3)"
     ],
     "language": "python",
     "metadata": {},
     "outputs": [
      {
       "output_type": "stream",
       "stream": "stdout",
       "text": [
        "The number of workers to be used is 3"
       ]
      },
      {
       "output_type": "stream",
       "stream": "stdout",
       "text": [
        "\n",
        "Starting with size of 50\n"
       ]
      },
      {
       "output_type": "stream",
       "stream": "stdout",
       "text": [
        "times: \n",
        "623956e-9\t.001141772\t.283334886\t.134931629\n"
       ]
      },
      {
       "output_type": "stream",
       "stream": "stdout",
       "text": [
        "\n",
        "errors: \n",
        " .00018657181990965055\t9402542313171128e-20\t.02706407468666602\t.04274488986148138\n",
        "\n",
        "Starting with size of 100\n"
       ]
      },
      {
       "output_type": "stream",
       "stream": "stdout",
       "text": [
        "times: \n",
        ".005064019\t.002608047\t2.188181369\t.842437906\n"
       ]
      },
      {
       "output_type": "stream",
       "stream": "stdout",
       "text": [
        "\n",
        "errors: \n",
        " 47639490696655545e-21\t2210354502455228e-20\t.04108500710653398\t.033710449749433685\n",
        "\n",
        "Starting with size of 200\n"
       ]
      },
      {
       "output_type": "stream",
       "stream": "stdout",
       "text": [
        "times: \n",
        ".060606151\t.00740257\t18.045708016\t6.323302311\n"
       ]
      },
      {
       "output_type": "stream",
       "stream": "stdout",
       "text": [
        "\n",
        "errors: \n",
        " 12033489681404635e-21\t37302666740478274e-22\t.04442859455277182\t.04530090685034647\n",
        "\n"
       ]
      }
     ],
     "prompt_number": 32
    },
    {
     "cell_type": "code",
     "collapsed": false,
     "input": [],
     "language": "python",
     "metadata": {},
     "outputs": []
    }
   ],
   "metadata": {}
  }
 ]
}