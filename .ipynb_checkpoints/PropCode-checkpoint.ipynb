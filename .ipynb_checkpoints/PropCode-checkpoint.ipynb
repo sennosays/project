{
 "metadata": {
  "language": "Julia",
  "name": ""
 },
 "nbformat": 3,
 "nbformat_minor": 0,
 "worksheets": [
  {
   "cells": [
    {
     "cell_type": "code",
     "collapsed": false,
     "input": [
      "using PyPlot"
     ],
     "language": "python",
     "metadata": {},
     "outputs": [
      {
       "output_type": "stream",
       "stream": "stdout",
       "text": [
        "Loading help data...\n"
       ]
      }
     ],
     "prompt_number": 3
    },
    {
     "cell_type": "code",
     "collapsed": false,
     "input": [
      "const age = 13.82     #current age of the universe [Gyr] \n",
      "const H0 = 67.11      #Hubble constant at the present time [km/s/Mpc]\n",
      "const H0_gyr = 0.001022689*H0; #Hubble constant at the present time [Gyr^-1]\n",
      "const inverse_H0 = 1.0/H0_gyr #1/H0 [Gyr] \n",
      "const Omegam = 0.3175 #fraction of matter in the unverise taken from Planck \n",
      "const Omegavac = 1.0 - Omegam; \n",
      "const c = 299800;  #speed of light [km/s]  \n",
      "const coverH0 = c/67.11;  #[Mpc]\n",
      "const alpha = 9.7222e-4;  #converstion from Gyr/Mpc to s/km \n",
      "const inverse_alpha = 1.0/alpha; "
     ],
     "language": "python",
     "metadata": {},
     "outputs": [],
     "prompt_number": 3
    },
    {
     "cell_type": "code",
     "collapsed": false,
     "input": [
      "println(1/H0_gyr); \n",
      "println(inverse_H0); "
     ],
     "language": "python",
     "metadata": {},
     "outputs": [
      {
       "output_type": "stream",
       "stream": "stdout",
       "text": [
        "14."
       ]
      },
      {
       "output_type": "stream",
       "stream": "stdout",
       "text": [
        "570322899186637\n",
        "14.570322899186637\n"
       ]
      }
     ],
     "prompt_number": 3
    },
    {
     "cell_type": "code",
     "collapsed": false,
     "input": [
      "#calculates and returns the derivative of time wrt redshift \n",
      "#takes a redshift as input \n",
      "function dtdz (this_z::Float64)\n",
      "    @assert(this_z >= 0.0)\n",
      "    this_opz = 1+this_z; \n",
      "    temp_result = this_opz*sqrt(Omegam*this_opz*this_opz*this_opz + Omegavac); \n",
      "    return inverse_H0/temp_result; \n",
      "end\n",
      "\n",
      "function dzdt(this_z::Float64)\n",
      "    @assert(this_z >= 0.0);\n",
      "    this_opz = 1.0+this_z; \n",
      "    return -H0_gyr*this_opz*sqrt(Omegam*this_opz*this_opz*this_opz + Omegavac); \n",
      "end\n",
      "\n",
      "function drdz (this_z::Float64)\n",
      "    @assert(this_z >= 0.0)\n",
      "    this_opz = 1.0+this_z; \n",
      "    return coverH0/sqrt(Omegam*this_opz*this_opz*this_opz + Omegavac);\n",
      "end\n",
      "    "
     ],
     "language": "python",
     "metadata": {},
     "outputs": [
      {
       "metadata": {},
       "output_type": "pyout",
       "prompt_number": 4,
       "text": [
        "drdz (generic function with 1 method)"
       ]
      }
     ],
     "prompt_number": 4
    },
    {
     "cell_type": "code",
     "collapsed": false,
     "input": [
      "z0 = 0.0; \n",
      "zf = 6.0; \n",
      "num_points = 100000; \n",
      "zs = linspace(z0,zf,num_points);\n",
      "deltaz = zs[2]-zs[1]; \n",
      "times = zeros(Float64,num_points); \n",
      "dist = zeros(Float64,num_points); \n",
      "Hubble = ones(Float64,num_points); \n",
      "\n",
      "dt = zeros(Float64,num_points); \n",
      "\n",
      "#calculate the comsmological time \n",
      "#and proper distance using UNIFORM REDSHIFT SPACING\n",
      "#this means that the spacing for time and space \n",
      "#are NOT uniform \n",
      "for i in 1:num_points-1 \n",
      "    opz = (1.0+zs[i]); \n",
      "    times[i+1] = times[i] + dtdz(zs[i])*deltaz; \n",
      "    dist[i+1] = dist[i] + drdz(zs[i])*deltaz; \n",
      "    Hubble[i] = sqrt(Omegam*opz*opz*opz + Omegavac); \n",
      "    \n",
      "    #calculate the differece in time between two temporal points\n",
      "    #TODO maybe chance to centered time steps \n",
      "    dt[i+1] = times[i+1]-times[i];\n",
      "end\n",
      "opz = 1.0+zf;\n",
      "Hubble[num_points] = sqrt(Omegam*opz*opz*opz + Omegavac); \n",
      "Hubble = H0.*Hubble; "
     ],
     "language": "python",
     "metadata": {},
     "outputs": [],
     "prompt_number": 4
    },
    {
     "cell_type": "code",
     "collapsed": false,
     "input": [
      "times = age .- times; "
     ],
     "language": "python",
     "metadata": {},
     "outputs": [],
     "prompt_number": 4
    },
    {
     "cell_type": "code",
     "collapsed": false,
     "input": [
      "minimum(times)"
     ],
     "language": "python",
     "metadata": {},
     "outputs": [
      {
       "metadata": {},
       "output_type": "pyout",
       "prompt_number": 5,
       "text": [
        "0.9240878694798944"
       ]
      }
     ],
     "prompt_number": 5
    },
    {
     "cell_type": "code",
     "collapsed": false,
     "input": [
      "derivs = map(dtdz,zs); \n",
      "plot(zs,dist)"
     ],
     "language": "python",
     "metadata": {},
     "outputs": [
      {
       "metadata": {},
       "output_type": "display_data",
       "png": "[encoded data removed]",
       "text": [
        "Figure(PyObject <matplotlib.figure.Figure object at 0x112463110>)"
       ]
      },
      {
       "metadata": {},
       "output_type": "pyout",
       "prompt_number": 6,
       "text": [
        "1-element Array{Any,1}:\n",
        " PyObject <matplotlib.lines.Line2D object at 0x116348dd0>"
       ]
      }
     ],
     "prompt_number": 6
    },
    {
     "cell_type": "markdown",
     "metadata": {},
     "source": [
      "use uniform time and space (proper distance) to calculate redshift and check with above calculation. Make sure to check all of this with Ned Wright's comsmological calculator. "
     ]
    },
    {
     "cell_type": "code",
     "collapsed": false,
     "input": [
      "t0 = minimum(times); \n",
      "tf = age; \n",
      "t = linspace(t0,tf,num_points); #cosmic time [Gyr]\n",
      "dt = t[2]-t[1]\n",
      "\n",
      "r = linspace(minimum(dist),maximum(dist),num_points);\n",
      "dr = r[2] - r[1];\n",
      "r = maximum(r) .- r;                                  #proper distance [Mpc]\n",
      "z = Array(Float64,num_points);                        #redshift [1] \n",
      "H = Array(Float64,num_points);\n",
      "z[end] = 0;\n",
      "for i in num_points:-1:2\n",
      "    z[i-1] = z[i] - dzdt(z[i])*dt;\n",
      "end\n",
      "H = Float64[sqrt(Omegam*(1.0.+z[i]).^3+Omegavac) for i in 1:num_points]; #unnormalized Hubble constant [1] "
     ],
     "language": "python",
     "metadata": {},
     "outputs": [
      {
       "metadata": {},
       "output_type": "pyout",
       "prompt_number": 7,
       "text": [
        "100000-element Array{Float64,1}:\n",
        " 10.47   \n",
        " 10.4686 \n",
        " 10.4671 \n",
        " 10.4657 \n",
        " 10.4642 \n",
        " 10.4628 \n",
        " 10.4613 \n",
        " 10.4599 \n",
        " 10.4585 \n",
        " 10.457  \n",
        " 10.4556 \n",
        " 10.4541 \n",
        " 10.4527 \n",
        "  \u22ee      \n",
        "  1.00005\n",
        "  1.00004\n",
        "  1.00004\n",
        "  1.00003\n",
        "  1.00003\n",
        "  1.00003\n",
        "  1.00002\n",
        "  1.00002\n",
        "  1.00001\n",
        "  1.00001\n",
        "  1.0    \n",
        "  1.0    "
       ]
      }
     ],
     "prompt_number": 7
    },
    {
     "cell_type": "code",
     "collapsed": false,
     "input": [
      "function beta(this_H::Float64,this_r::Float64)\n",
      "    @assert(this_H >= 1.0) \n",
      "    @assert(this_r >= 0.0); \n",
      "    \n",
      "    return inverse_alpha*sqrt(6.0*H0_gyr*this_H)/(c+H0*this_H*this_r); \n",
      "end\n",
      "function test_w(Hs::Array{Float64},rs::Array{Float64},test_dt::Float64,test_dr::Float64)\n",
      "    my_test = map((a,b) -> calc_test(a,b),H,r); \n",
      "    max_test = maximum(my_test); \n",
      "    @assert(sqrt(test_dt) < max_test*dr);\n",
      "end\n",
      "\n",
      "function calc_w(this_H::Float64,this_r::Float64,this_dt::Float64,this_dr::Float64)\n",
      "    w_sqrd = (1.0 - 3.0*this_dt*H0_gyr*this_H)^2; \n",
      "    println(\"term 1 is \",w_sqrd); \n",
      "    w_sqrd = w_sqrd + (alpha*this_dt*(c+H0*this_H*this_r)/this_dr)^2;\n",
      "    println(\"term 2 is \",w_sqrd); \n",
      "    return sqrt(w_sqrd); \n",
      "end"
     ],
     "language": "python",
     "metadata": {},
     "outputs": [
      {
       "metadata": {},
       "output_type": "pyout",
       "prompt_number": 32,
       "text": [
        "calc_w (generic function with 1 method)"
       ]
      }
     ],
     "prompt_number": 32
    },
    {
     "cell_type": "code",
     "collapsed": false,
     "input": [
      "dr_exps = linspace(-2,-1,10);\n",
      "dt_exps = linspace(-6,-4,10); \n",
      "test_dt = 10.^dt_exps; \n",
      "test_dr = 10.^dr_exps; "
     ],
     "language": "python",
     "metadata": {},
     "outputs": [],
     "prompt_number": 8
    },
    {
     "cell_type": "code",
     "collapsed": false,
     "input": [
      "mapped_ws = Array(Float64,10,10); "
     ],
     "language": "python",
     "metadata": {},
     "outputs": [],
     "prompt_number": 8
    },
    {
     "cell_type": "markdown",
     "metadata": {},
     "source": [
      "if we want to satisfy the $w_{i,j}$ relation we need to satisfy the condition:\n",
      "$$\\sqrt{dt} < \\frac{\\sqrt{6H_j}}{\\alpha\\left(c+H_j r_i\\right)}dr $$\n",
      "Where I will now define $$ \\beta \\equiv \\frac{\\sqrt{6H_j}}{\\alpha\\left(c+H_j r_i\\right)}$$"
     ]
    },
    {
     "cell_type": "code",
     "collapsed": false,
     "input": [
      "min_beta = minimum(map((a,b)-> beta(a,b),H,r))"
     ],
     "language": "python",
     "metadata": {},
     "outputs": [
      {
       "metadata": {},
       "output_type": "pyout",
       "prompt_number": 9,
       "text": [
        "0.0003428874764029408"
       ]
      }
     ],
     "prompt_number": 9
    },
    {
     "cell_type": "markdown",
     "metadata": {},
     "source": [
      "I first pick $dt \\simeq 0.01$ which assuming the minimum value of the $\\beta \\simeq 0.00034$ that means that $dr \\simeq 294$. Since we are considering propagation from proper distance $r_max \\simeq 7000 Mpc$ this requires about 23 spatial points. Which seems a little high for me but not completely unreasonable. Maybe try a slightly smaller value of dt? "
     ]
    },
    {
     "cell_type": "code",
     "collapsed": false,
     "input": [
      "dt_exp = linspace(-5,-2,20); \n",
      "test_dt = 10.^dt_exp; \n",
      "test_dr = 2*sqrt(test_dt)/min_beta; \n",
      "lambda = test_dt/test_dr"
     ],
     "language": "python",
     "metadata": {},
     "outputs": [
      {
       "metadata": {},
       "output_type": "pyout",
       "prompt_number": 10,
       "text": [
        "20x20 Array{Float64,2}:\n",
        " 1.65367e-10  1.98334e-10  2.37872e-10  \u2026  3.63542e-9  4.36015e-9  5.22936e-9\n",
        " 2.37872e-10  2.85293e-10  3.42167e-10     5.22936e-9  6.27186e-9  7.52218e-9\n",
        " 3.42167e-10  4.1038e-10   4.9219e-10      7.52218e-9  9.02175e-9  1.08203e-8\n",
        " 4.9219e-10   5.9031e-10   7.07991e-10     1.08203e-8  1.29773e-8  1.55644e-8\n",
        " 7.07991e-10  8.49132e-10  1.01841e-9      1.55644e-8  1.86673e-8  2.23886e-8\n",
        " 1.01841e-9   1.22143e-9   1.46493e-9   \u2026  2.23886e-8  2.68519e-8  3.22049e-8\n",
        " 1.46493e-9   1.75697e-9   2.10723e-9      3.22049e-8  3.86251e-8  4.63252e-8\n",
        " 2.10723e-9   2.52732e-9   3.03115e-9      4.63252e-8  5.55603e-8  6.66365e-8\n",
        " 3.03115e-9   3.63542e-9   4.36015e-9      6.66365e-8  7.99207e-8  9.58532e-8\n",
        " 4.36015e-9   5.22936e-9   6.27186e-9      9.58532e-8  1.14962e-7  1.3788e-7 \n",
        " 6.27186e-9   7.52218e-9   9.02175e-9   \u2026  1.3788e-7   1.65367e-7  1.98334e-7\n",
        " 9.02175e-9   1.08203e-8   1.29773e-8      1.98334e-7  2.37872e-7  2.85293e-7\n",
        " 1.29773e-8   1.55644e-8   1.86673e-8      2.85293e-7  3.42167e-7  4.1038e-7 \n",
        " 1.86673e-8   2.23886e-8   2.68519e-8      4.1038e-7   4.9219e-7   5.9031e-7 \n",
        " 2.68519e-8   3.22049e-8   3.86251e-8      5.9031e-7   7.07991e-7  8.49132e-7\n",
        " 3.86251e-8   4.63252e-8   5.55603e-8   \u2026  8.49132e-7  1.01841e-6  1.22143e-6\n",
        " 5.55603e-8   6.66365e-8   7.99207e-8      1.22143e-6  1.46493e-6  1.75697e-6\n",
        " 7.99207e-8   9.58532e-8   1.14962e-7      1.75697e-6  2.10723e-6  2.52732e-6\n",
        " 1.14962e-7   1.3788e-7    1.65367e-7      2.52732e-6  3.03115e-6  3.63542e-6\n",
        " 1.65367e-7   1.98334e-7   2.37872e-7      3.63542e-6  4.36015e-6  5.22936e-6"
       ]
      }
     ],
     "prompt_number": 10
    },
    {
     "cell_type": "code",
     "collapsed": false,
     "input": [
      "tic()\n",
      "for i in 1:10\n",
      "    for j in 1:10\n",
      "        ws = map((a,b) -> calc_w(a,b,test_dt[j],test_dr[i]),H,r); \n",
      "        mapped_ws[i,j] = maximum(ws); \n",
      "    end\n",
      "end\n",
      "toc()"
     ],
     "language": "python",
     "metadata": {},
     "outputs": [
      {
       "output_type": "stream",
       "stream": "stdout",
       "text": [
        "elapsed time: 7"
       ]
      },
      {
       "output_type": "stream",
       "stream": "stdout",
       "text": [
        ".401657632 seconds\n"
       ]
      },
      {
       "metadata": {},
       "output_type": "pyout",
       "prompt_number": 11,
       "text": [
        "7.401657632"
       ]
      }
     ],
     "prompt_number": 11
    },
    {
     "cell_type": "code",
     "collapsed": false,
     "input": [
      "function calc_dt(max_H::Float64,max_r::Float64,this_dr::Float64)\n",
      "    denominator = (alpha*(c+H0*max_H*max_r)/this_dr)^2 + 9.0*(H0_gyr*max_H)^2; \n",
      "    return 3.0*H0_gyr*max_H/denominator; \n",
      "end"
     ],
     "language": "python",
     "metadata": {},
     "outputs": [
      {
       "metadata": {},
       "output_type": "pyout",
       "prompt_number": 12,
       "text": [
        "calc_dt (generic function with 1 method)"
       ]
      }
     ],
     "prompt_number": 12
    },
    {
     "cell_type": "code",
     "collapsed": false,
     "input": [
      "maxH = maximum(H);\n",
      "maxr = maximum(r);\n",
      "test_dr = 50.0;"
     ],
     "language": "python",
     "metadata": {},
     "outputs": [],
     "prompt_number": 58
    },
    {
     "cell_type": "code",
     "collapsed": false,
     "input": [
      "test_dt = calc_dt(maxH,maxr,test_dr)"
     ],
     "language": "python",
     "metadata": {},
     "outputs": [
      {
       "metadata": {},
       "output_type": "pyout",
       "prompt_number": 59,
       "text": [
        "0.00014691823020288795"
       ]
      }
     ],
     "prompt_number": 59
    },
    {
     "cell_type": "markdown",
     "metadata": {},
     "source": [
      "Interesting to note that there is about 10 orders of magnitude difference between a dr and the best dt. However, as dr increases this effect lessens. "
     ]
    },
    {
     "cell_type": "code",
     "collapsed": false,
     "input": [
      "calc_w(maxH,maxr,test_dt,test_dr)"
     ],
     "language": "python",
     "metadata": {},
     "outputs": [
      {
       "output_type": "stream",
       "stream": "stdout",
       "text": [
        "term 1 is 0."
       ]
      },
      {
       "output_type": "stream",
       "stream": "stdout",
       "text": [
        "9974702495481228\n",
        "term 2 is 0.9987343238059474\n"
       ]
      },
      {
       "metadata": {},
       "output_type": "pyout",
       "prompt_number": 46,
       "text": [
        "0.9993669615341241"
       ]
      }
     ],
     "prompt_number": 46
    },
    {
     "cell_type": "code",
     "collapsed": false,
     "input": [
      "alpha*dt*(c+H0*maxH*maxr)/test_dr"
     ],
     "language": "python",
     "metadata": {},
     "outputs": [
      {
       "metadata": {},
       "output_type": "pyout",
       "prompt_number": 49,
       "text": [
        "0.007809432497848051"
       ]
      }
     ],
     "prompt_number": 49
    },
    {
     "cell_type": "code",
     "collapsed": false,
     "input": [
      "num_t=(age-minimum(t))/test_dt"
     ],
     "language": "python",
     "metadata": {},
     "outputs": [
      {
       "metadata": {},
       "output_type": "pyout",
       "prompt_number": 54,
       "text": [
        "21964.88019362885"
       ]
      }
     ],
     "prompt_number": 54
    },
    {
     "cell_type": "code",
     "collapsed": false,
     "input": [
      "num_r=(maximum(r)-minimum(r))/test_dr"
     ],
     "language": "python",
     "metadata": {},
     "outputs": [
      {
       "metadata": {},
       "output_type": "pyout",
       "prompt_number": 55,
       "text": [
        "84.38023638900495"
       ]
      }
     ],
     "prompt_number": 55
    },
    {
     "cell_type": "markdown",
     "metadata": {},
     "source": [
      "Maybe now I've found a good way to discritize space and time for the advection problem. However, there is a large difference in the amount of spatial and temporal parts."
     ]
    },
    {
     "cell_type": "code",
     "collapsed": false,
     "input": [
      "num_t*num_r"
     ],
     "language": "python",
     "metadata": {},
     "outputs": [
      {
       "metadata": {},
       "output_type": "pyout",
       "prompt_number": 56,
       "text": [
        "1.8534017829945753e6"
       ]
      }
     ],
     "prompt_number": 56
    },
    {
     "cell_type": "code",
     "collapsed": false,
     "input": [
      "linspace(1,3)"
     ],
     "language": "python",
     "metadata": {},
     "outputs": [
      {
       "metadata": {},
       "output_type": "pyout",
       "prompt_number": 60,
       "text": [
        "100-element Array{Float64,1}:\n",
        " 1.0    \n",
        " 1.0202 \n",
        " 1.0404 \n",
        " 1.06061\n",
        " 1.08081\n",
        " 1.10101\n",
        " 1.12121\n",
        " 1.14141\n",
        " 1.16162\n",
        " 1.18182\n",
        " 1.20202\n",
        " 1.22222\n",
        " 1.24242\n",
        " \u22ee      \n",
        " 2.77778\n",
        " 2.79798\n",
        " 2.81818\n",
        " 2.83838\n",
        " 2.85859\n",
        " 2.87879\n",
        " 2.89899\n",
        " 2.91919\n",
        " 2.93939\n",
        " 2.9596 \n",
        " 2.9798 \n",
        " 3.0    "
       ]
      }
     ],
     "prompt_number": 60
    },
    {
     "cell_type": "code",
     "collapsed": false,
     "input": [
      "function make_A!(A_mat::Array{Float64,2},this_H::Float64,this_r::Array{Float64,1},this_dt::Float64,this_dr::Float64)\n",
      "    this_size = size(A_mat); \n",
      "    num = length(this_r); \n",
      "    @assert(this_size == (num,num));\n",
      "    @assert(num == this_size[1]); \n",
      "    @assert(this_H >= 1.0);\n",
      "    @assert(this_dt > 0.0); \n",
      "    @assert(this_dr > 0.0); \n",
      "    \n",
      "    A_mat[1,1] = (1.0-3.0*this_dt*H0_gyr*this_H + alpha*c*this_dt/this_dr); \n",
      "    A_mat[1,2] = -alpha*c*this_dt/this_dr; \n",
      "    \n",
      "    for i in 2:num-1\n",
      "        a = -0.5*alpha*this_dt*(c+H0*this_H*this_r[i])/this_dr;  \n",
      "        A_mat[i,i-1] = -a; \n",
      "        A_mat[i,i] = 1.0-3.0*this_dt*H0_gyr*this_H;\n",
      "        A_mat[i,i+1] = a; \n",
      "    end\n",
      "    \n",
      "    A_mat[num,num-1] = alpha*this_dt*(c+H0*this_H*this_r[num])/this_dr; \n",
      "    A_mat[num,num] = 1.0-3.0*this_dt*H0_gyr*this_H - alpha*this_dt*(c+H0*this_H*this_r[num])/this_dr; \n",
      "\n",
      "end"
     ],
     "language": "python",
     "metadata": {},
     "outputs": [
      {
       "metadata": {},
       "output_type": "pyout",
       "prompt_number": 101,
       "text": [
        "make_A! (generic function with 4 methods)"
       ]
      }
     ],
     "prompt_number": 101
    },
    {
     "cell_type": "code",
     "collapsed": false,
     "input": [
      "A = Array(Float64,length(r),length(r));"
     ],
     "language": "python",
     "metadata": {},
     "outputs": [],
     "prompt_number": 83
    },
    {
     "cell_type": "code",
     "collapsed": false,
     "input": [
      "make_A!(A,H[end],r,test_dt,test_dr)"
     ],
     "language": "python",
     "metadata": {},
     "outputs": [
      {
       "metadata": {},
       "output_type": "pyout",
       "prompt_number": 104,
       "text": [
        "0.9991133001304693"
       ]
      }
     ],
     "prompt_number": 104
    },
    {
     "cell_type": "code",
     "collapsed": false,
     "input": [
      "sparse(A)"
     ],
     "language": "python",
     "metadata": {},
     "outputs": [],
     "prompt_number": "*"
    },
    {
     "cell_type": "code",
     "collapsed": false,
     "input": [],
     "language": "python",
     "metadata": {},
     "outputs": []
    }
   ],
   "metadata": {}
  }
 ]
}