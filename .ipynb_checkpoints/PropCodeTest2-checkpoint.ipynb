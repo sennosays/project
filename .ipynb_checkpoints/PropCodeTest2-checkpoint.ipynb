{
 "metadata": {
  "language": "Julia",
  "name": ""
 },
 "nbformat": 3,
 "nbformat_minor": 0,
 "worksheets": [
  {
   "cells": [
    {
     "cell_type": "code",
     "collapsed": false,
     "input": [
      "using PyPlot"
     ],
     "language": "python",
     "metadata": {},
     "outputs": [],
     "prompt_number": 18
    },
    {
     "cell_type": "code",
     "collapsed": false,
     "input": [
      "include(\"PropCode_funcs_test2.jl\")"
     ],
     "language": "python",
     "metadata": {},
     "outputs": [
      {
       "metadata": {},
       "output_type": "pyout",
       "prompt_number": 19,
       "text": [
        "prop_step (generic function with 2 methods)"
       ]
      }
     ],
     "prompt_number": 19
    },
    {
     "cell_type": "code",
     "collapsed": false,
     "input": [
      "function calc_dt(this_dx::Float64,this_H::Float64,this_a::Float64)\n",
      "    @assert(this_dx > 0.0); \n",
      "    @assert(this_H >= 1.0); \n",
      "    @assert(this_a <= 1.0 && this_a > 0.0); \n",
      "    \n",
      "    denominator = 18*(H0_gyr*this_H)^2 + 2*(alpha*c/(this_a*this_dx))^2; \n",
      "    return 6.0*H0_gyr*this_H/denominator; \n",
      "end\n",
      "\n",
      "function calc_w(this_H::Float64,this_lambda::Float64,this_dt::Float64)\n",
      "    @assert(this_H >= 1.0); \n",
      "    @assert(this_dt > 0.0); \n",
      "    \n",
      "    return (1.0-3.0*this_dt*H0_gyr*this_H)^2 + 4*this_lambda^2; \n",
      "end"
     ],
     "language": "python",
     "metadata": {},
     "outputs": [
      {
       "metadata": {},
       "output_type": "pyout",
       "prompt_number": 20,
       "text": [
        "calc_w (generic function with 2 methods)"
       ]
      }
     ],
     "prompt_number": 20
    },
    {
     "cell_type": "code",
     "collapsed": false,
     "input": [
      "function make_A!(this_A::Array{Float64},this_H::Float64,this_dt::Float64,this_lambda::Float64,this_si::Int)\n",
      "    this_size = size(this_A); \n",
      "    @assert(this_size[1] == this_size[2]); \n",
      "    num = this_size[1]; \n",
      "    @assert(this_dt > 0.0); \n",
      "    @assert(this_H >= 1.0); \n",
      "    \n",
      "    \n",
      "    this_A[1,1] = 1.0 + 3.0*this_lambda-3.0*this_dt*H0_gyr*this_H; \n",
      "    this_A[1,2] = -2*this_lambda; \n",
      "    this_A[1,3] = this_lambda; \n",
      "    for i in 2:num-1\n",
      "        this_A[i,i-1] = (i < this_si) ? this_lambda : -this_lambda; \n",
      "        this_A[i,i] = (1.0 - 3.0*this_dt*H0_gyr*this_H); \n",
      "        this_A[i,i+1] = (i < this_si) ? -this_lambda : this_lambda; \n",
      "    end\n",
      "    this_A[num,num-2] = this_lambda; \n",
      "    this_A[num,num-1] = -2*this_lambda; \n",
      "    this_A[num,num] = 1.0 + 3.0*this_lambda-3.0*this_dt*H0_gyr*this_H;\n",
      "end\n",
      "\n",
      "\n",
      "function make_B!(this_B::Array{Float64},this_H::Float64,this_dt::Float64,this_lambda::Float64,this_si::Int)\n",
      "    this_size = size(this_B); \n",
      "    @assert(this_size[1] == this_size[2]); \n",
      "    num = this_size[1]; \n",
      "    @assert(this_dt > 0.0); \n",
      "    @assert(this_H >= 1.0); \n",
      "    \n",
      "    \n",
      "    this_B[1,1] = 1.0 - 3.0*this_lambda+3.0*this_dt*H0_gyr*this_H; \n",
      "    this_B[1,2] = 2*this_lambda; \n",
      "    this_B[1,3] = -this_lambda; \n",
      "    for i in 2:num-1\n",
      "        this_B[i,i-1] = (i < this_si) ? -this_lambda : this_lambda; \n",
      "        this_B[i,i] = (1.0 + 3.0*this_dt*H0_gyr*this_H); \n",
      "        this_B[i,i+1] = (i < this_si) ? this_lambda : -this_lambda; \n",
      "    end\n",
      "    this_B[num,num-2] = -this_lambda; \n",
      "    this_B[num,num-1] = 2*this_lambda; \n",
      "    this_B[num,num] = 1.0 - 3.0*this_lambda+3.0*this_dt*H0_gyr*this_H;\n",
      "end\n"
     ],
     "language": "python",
     "metadata": {},
     "outputs": [
      {
       "metadata": {},
       "output_type": "pyout",
       "prompt_number": 43,
       "text": [
        "make_B! (generic function with 1 method)"
       ]
      }
     ],
     "prompt_number": 43
    },
    {
     "cell_type": "code",
     "collapsed": false,
     "input": [
      "z_g = 3.0;  #source redshift location \n",
      "Q0 = 1.0;   #source intensity [??] \n",
      "\n",
      "#comoving distance to the source and maximum distance considered[Mpc] \n",
      "x_g = quadgk(a-> (1.0+a)*dtdz(a),0.0,z_g)[1];\n",
      "x_max = x_g+quadgk(a->(1.0+a)*dtdz(a),z_g,2.0*z_g)[1]; \n",
      "x_g = -1c*x_g/H0;\n",
      "x_max = -c*x_max/H0;\n",
      "x_max = 2.1*x_g; \n",
      "\n",
      "#cosmological time of the universe at begining of calculation [Gyr] \n",
      "t_min = age + quadgk(dtdz,0.0,z_g)[1]/H0_gyr;\n",
      "\n",
      "dx = 0.01; \n",
      "H_max = sqrt(Omegam*(1.0+z_g)^3+Omegavac);\n",
      "a_max = 1.0/(1.0+z_g); \n",
      "\n",
      "dt = calc_dt(dx,H_max,a_max); \n",
      "\n",
      "#IMPORTANT added this line for the implicit solver \n",
      "dt = 0.01; \n",
      "\n",
      "nt = ifloor((age-t_min)/dt); \n",
      "dt = (age-t_min)/nt;\n",
      "\n",
      "nx = iceil(x_max/dx);\n",
      "dx = x_max/nx; \n",
      "\n",
      "#check stability of discretization \n",
      "@assert(calc_w(H_max,0.5*alpha*c*dt/(a_max*dx),dt)<1.0)\n",
      "@assert(dt>1e-10); \n",
      "\n",
      "x = linspace(0.0,x_max,nx); \n",
      "t = linspace(t_min,age,nt);\n",
      "H = Array(Float64,nt); \n",
      "a = Array(Float64,nt); \n",
      "n = Array(Float64,nx); \n",
      "Q = zeros(Float64,nx);\n",
      "\n",
      "z_old = 0.0; \n",
      "H[end] = 1.0; \n",
      "a[end] = 1.0; \n",
      "\n",
      "for i in 1:nt-1\n",
      "    z_new = z_old - dzdt(z_old)*dt; \n",
      "    H[end-i] = sqrt(Omegam*(1.0+z_new).^3+Omegavac); \n",
      "    a[end-i] = 1.0/(1.0+z_new); \n",
      "    z_old = z_new; \n",
      "end\n",
      "\n",
      "@assert(abs(H[1] - H_max) < 0.01)\n",
      "@assert(abs(a[1] - a_max) < 0.01)"
     ],
     "language": "python",
     "metadata": {},
     "outputs": [],
     "prompt_number": 41
    },
    {
     "cell_type": "code",
     "collapsed": false,
     "input": [
      "println(\"the number of points is \",nt,\" and the timestep is \",dt); "
     ],
     "language": "python",
     "metadata": {},
     "outputs": [
      {
       "output_type": "stream",
       "stream": "stdout",
       "text": [
        "the number of points is 673166"
       ]
      },
      {
       "output_type": "stream",
       "stream": "stdout",
       "text": [
        " and the timestep is 1.7354346264325718e-5\n"
       ]
      }
     ],
     "prompt_number": 41
    },
    {
     "cell_type": "code",
     "collapsed": false,
     "input": [
      "#use explicit solver \n",
      "A = Array(Float64,nx,nx); \n",
      "new_n = Array(Float64,nx); \n",
      "\n",
      "#initialize n and Q \n",
      "n = zeros(Float64,nx); \n",
      "\n",
      "#get the index that locates the point closes to the source position \n",
      "ceil_err = abs(x[iceil(x_g/dx)] - x_g); \n",
      "floor_err = abs(x[ifloor(x_g/dx)] - x_g); \n",
      "si = (ceil_err < floor_err) ? iceil(x_g/dx) : ifloor(x_g/dx); \n",
      "\n",
      "Q[si] = Q0/dx^3;\n",
      "\n",
      "for j in 1:nt\n",
      "    make_A!(A,H[j],dt,-0.5*alpha*c*dt/(a_max*dx),si); \n",
      "    new_n = A*n+dt*Q./a[j]^3; \n",
      "    n = copy(new_n); \n",
      "end"
     ],
     "language": "python",
     "metadata": {},
     "outputs": [
      {
       "ename": "LoadError",
       "evalue": "interrupt\nwhile loading In[42], in expression starting on line 14",
       "output_type": "pyerr",
       "traceback": [
        "interrupt\nwhile loading In[42], in expression starting on line 14"
       ]
      }
     ],
     "prompt_number": 42
    },
    {
     "cell_type": "code",
     "collapsed": false,
     "input": [
      "#use implicit solver \n",
      "B = Array(Float64,nx,nx); \n",
      "new_n = Array(Float64,nx); \n",
      "\n",
      "#initialize n and Q \n",
      "n = zeros(Float64,nx); \n",
      "\n",
      "#get the index that locates the point closes to the source position \n",
      "ceil_err = abs(x[iceil(x_g/dx)] - x_g); \n",
      "floor_err = abs(x[ifloor(x_g/dx)] - x_g); \n",
      "si = (ceil_err < floor_err) ? iceil(x_g/dx) : ifloor(x_g/dx); \n",
      "\n",
      "Q[si] = Q0/dx^3;\n",
      "\n",
      "for j in 1:nt\n",
      "    make_A!(A,H[j],dt,-0.5*alpha*c*dt/(a_max*dx),si); \n",
      "    new_n = A*n+dt*Q./a[j]^3; \n",
      "    n = copy(new_n); \n",
      "end"
     ],
     "language": "python",
     "metadata": {},
     "outputs": []
    },
    {
     "cell_type": "code",
     "collapsed": false,
     "input": [
      "plot(x,n)\n",
      "plot(this_old_x,this_old_n)"
     ],
     "language": "python",
     "metadata": {},
     "outputs": [
      {
       "metadata": {},
       "output_type": "display_data",
       "png": "[encoded data removed]",
       "text": [
        "Figure(PyObject <matplotlib.figure.Figure object at 0x111541050>)"
       ]
      },
      {
       "metadata": {},
       "output_type": "pyout",
       "prompt_number": 38,
       "text": [
        "1-element Array{Any,1}:\n",
        " PyObject <matplotlib.lines.Line2D object at 0x1115730d0>"
       ]
      }
     ],
     "prompt_number": 38
    },
    {
     "cell_type": "code",
     "collapsed": false,
     "input": [
      "this_old_n = copy(n);\n",
      "this_old_x = linspace(0.0,x_max,length(this_old_n));"
     ],
     "language": "python",
     "metadata": {},
     "outputs": [],
     "prompt_number": 40
    },
    {
     "cell_type": "code",
     "collapsed": false,
     "input": [
      "n[1]"
     ],
     "language": "python",
     "metadata": {},
     "outputs": [
      {
       "metadata": {},
       "output_type": "pyout",
       "prompt_number": 39,
       "text": [
        "0.006086157798468984"
       ]
      }
     ],
     "prompt_number": 39
    },
    {
     "cell_type": "code",
     "collapsed": false,
     "input": [
      "Q0/(4*pi*alpha*c*x[si]^2*(1.0+z_g))"
     ],
     "language": "python",
     "metadata": {},
     "outputs": [
      {
       "metadata": {},
       "output_type": "pyout",
       "prompt_number": 40,
       "text": [
        "1.608233522281281e-12"
       ]
      }
     ],
     "prompt_number": 40
    },
    {
     "cell_type": "code",
     "collapsed": false,
     "input": [
      "Q0/(alpha*c*x[si]^2)"
     ],
     "language": "python",
     "metadata": {},
     "outputs": [
      {
       "metadata": {},
       "output_type": "pyout",
       "prompt_number": 172,
       "text": [
        "8.073230226715739e-11"
       ]
      }
     ],
     "prompt_number": 172
    },
    {
     "cell_type": "code",
     "collapsed": false,
     "input": [
      "pi"
     ],
     "language": "python",
     "metadata": {},
     "outputs": [
      {
       "metadata": {},
       "output_type": "pyout",
       "prompt_number": 167,
       "text": [
        "\u03c0 = 3.1415926535897..."
       ]
      }
     ],
     "prompt_number": 167
    },
    {
     "cell_type": "code",
     "collapsed": false,
     "input": [
      "Q"
     ],
     "language": "python",
     "metadata": {},
     "outputs": [
      {
       "metadata": {},
       "output_type": "pyout",
       "prompt_number": 186,
       "text": [
        "274-element Array{Float64,1}:\n",
        " 0.0\n",
        " 0.0\n",
        " 0.0\n",
        " 0.0\n",
        " 0.0\n",
        " 0.0\n",
        " 0.0\n",
        " 0.0\n",
        " 0.0\n",
        " 0.0\n",
        " 0.0\n",
        " 0.0\n",
        " 0.0\n",
        " \u22ee  \n",
        " 0.0\n",
        " 0.0\n",
        " 0.0\n",
        " 0.0\n",
        " 0.0\n",
        " 0.0\n",
        " 0.0\n",
        " 0.0\n",
        " 0.0\n",
        " 0.0\n",
        " 0.0\n",
        " 0.0"
       ]
      }
     ],
     "prompt_number": 186
    },
    {
     "cell_type": "code",
     "collapsed": false,
     "input": [],
     "language": "python",
     "metadata": {},
     "outputs": []
    }
   ],
   "metadata": {}
  }
 ]
}